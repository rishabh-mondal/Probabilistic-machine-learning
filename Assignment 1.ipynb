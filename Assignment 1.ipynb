{
 "cells": [
  {
   "cell_type": "code",
   "execution_count": null,
   "id": "808c2c90",
   "metadata": {},
   "outputs": [],
   "source": [
    "import random\n",
    "import torch\n",
    "import numpy as np\n",
    "import matplotlib.pyplot as plt\n",
    "import math\n",
    "\n",
    "%matplotlib inline\n"
   ]
  },
  {
   "cell_type": "markdown",
   "id": "8af9b4a5",
   "metadata": {},
   "source": [
    "###### 1.Optimise the following function using torch autograd and gradient descent, f(θ) = (θ₀ - 2)² + (θ₁ - 3)². In addition to finding the optima, you need to show the convergence plots. [0.5 marks]\n",
    "\n",
    "\n",
    "\n",
    "###### 3.Generate some data (1000 data points) using a univariate Normal distribution with loc=2.0 and scale=4.0 and using Student-T distributions with varying degrees (from 1-8) of freedom (1000 data points corresponding to each degree of freedom). Plot the pdf (and logpdf) at uniformly spaced data from (-50, 50) in steps of 0.1. What can you conclude? [1 mark]\n",
    "\n",
    "###### 4.Analytically derive the MLE for exponential distribution. Generate some data (1000 data points) using some fixed parameter values and see if you can recover the analytical parameters using gradient descent based solution for obtaining MLE. [1 mark]\n",
    "\n",
    "###### 5.Generate some data (100 data points) using a univariate Normal distribution with loc=2.0 and scale=4.0. Now, create datasets of size 10, 20, 50, 100, 500, 1000, 5000, 10000. We will use a different random seed to create ten different datasets for each of these sizes. For each of these datasets, find the MLE parameters for the loc and scale using gradient descent. Plot the estimates of loc and scale as a function of the dataset size. What can you conclude? [1 mark]"
   ]
  },
  {
   "cell_type": "markdown",
   "id": "313beb61",
   "metadata": {},
   "source": [
    "# Question 1:"
   ]
  },
  {
   "cell_type": "code",
   "execution_count": null,
   "id": "4bd3ea11",
   "metadata": {},
   "outputs": [],
   "source": [
    "# Define the function\n",
    "def f(theta):\n",
    "    return (theta[0] - 2)**2 + (theta[1] - 3)**2\n"
   ]
  },
  {
   "cell_type": "code",
   "execution_count": null,
   "id": "31b74e15",
   "metadata": {},
   "outputs": [],
   "source": [
    "\n",
    "# Initialize the parameters (θ₀ and θ₁) and learning rate\n",
    "theta = torch.tensor([ random.random() ,random.random()], requires_grad=True)\n",
    "learning_rate = 0.1\n",
    "num_iterations = 100\n",
    "theta"
   ]
  },
  {
   "cell_type": "code",
   "execution_count": null,
   "id": "39852647",
   "metadata": {},
   "outputs": [],
   "source": [
    "loss_history = []\n",
    "theta_history = []\n",
    "\n",
    "for _ in range(num_iterations):\n",
    "    loss = f(theta)\n",
    "    # print(loss.item())\n",
    "    loss_history.append(loss.item())\n",
    "    theta_history.append(theta)\n",
    "    # print(theta)\n",
    "    loss.backward()  # Compute gradients\n",
    "    with torch.no_grad():\n",
    "        theta -= learning_rate * theta.grad  # Update parameters\n",
    "        theta.grad.zero_()  # Reset gradients"
   ]
  },
  {
   "cell_type": "code",
   "execution_count": null,
   "id": "56dcab99",
   "metadata": {},
   "outputs": [],
   "source": [
    "plt.plot(range(num_iterations), loss_history, label='Loss')\n",
    "plt.xlabel('Iteration')\n",
    "plt.ylabel('Loss')\n",
    "plt.title('Convergence Plot')\n",
    "plt.legend()\n",
    "plt.show()"
   ]
  },
  {
   "cell_type": "code",
   "execution_count": null,
   "id": "402721ef",
   "metadata": {},
   "outputs": [],
   "source": [
    "optimal_theta = theta.detach().numpy()\n",
    "print(\"Optimal Parameters (θ₀, θ₁):\", optimal_theta)\n",
    "print(\"Optimal Value of f(θ):\", f(optimal_theta))"
   ]
  },
  {
   "cell_type": "markdown",
   "id": "72c66132",
   "metadata": {},
   "source": [
    "###### 2.Generate some data (100 data points) using a univariate Normal distribution with loc=2.0 and scale=4.0.\n",
    "\n",
    "Plot a 2d contour plot showing the Likelihood or the Log-Likelihood as a function of loc and scale. Please label all the axes including the colorbar. [1 mark]\n",
    "\n",
    "Find the MLE parameters for the loc and scale using gradient descent. Plot convergence plot as well. [1 mark]\n",
    "\n",
    "Redo the above question but learn log(scale) instead of scale and then finally transform to learn scale. What can you conclude? Why is this transformation useful? [0.5 mark]"
   ]
  },
  {
   "cell_type": "code",
   "execution_count": null,
   "id": "fdbd2080",
   "metadata": {},
   "outputs": [],
   "source": [
    "N = 100\n",
    "torch.manual_seed(2)\n",
    "samples = torch.distributions.Normal(2.0, 4.0).sample((N,))\n",
    "samples\n",
    "samples.mean(), samples.std(correction=0)\n",
    "plt.scatter(range(N),samples,color='g',label='datapoint')\n",
    "plt.xlabel('index')\n",
    "plt.ylabel('values')\n",
    "plt.legend();"
   ]
  },
  {
   "cell_type": "code",
   "execution_count": null,
   "id": "5ceaa643",
   "metadata": {},
   "outputs": [],
   "source": [
    "#Plot a 2d contour plot showing the Likelihood or the Log-Likelihood as a function of loc and scale. Please label all the axes including the colorbar. [1 mark]\n",
    "def ll(mu, sigma):\n",
    "    mu = torch.tensor(mu)\n",
    "    sigma = torch.tensor(sigma)\n",
    "    dist = torch.distributions.Normal(mu, sigma)\n",
    "    loglik = dist.log_prob(samples).sum()\n",
    "    return dist, loglik\n",
    "   "
   ]
  },
  {
   "cell_type": "code",
   "execution_count": null,
   "id": "9ca2637d",
   "metadata": {},
   "outputs": [],
   "source": [
    "from mpl_toolkits.axes_grid1 import make_axes_locatable\n",
    "\n",
    "def plot_lls(mus, sigmas, lls):\n",
    "    fig, ax1 = plt.subplots(figsize=(8, 6))\n",
    "    \n",
    "    X, Y = np.meshgrid(mus, sigmas)\n",
    "    \n",
    "    max_indices = np.unravel_index(np.argmax(lls), lls.shape)\n",
    "    max_mu = mus[max_indices[1]]\n",
    "    max_sigma = sigmas[max_indices[0]]\n",
    "    max_loglik = lls[max_indices]\n",
    "\n",
    "    # Define levels with increasing granularity\n",
    "    levels_low = np.linspace(lls.min(), max_loglik, 20)\n",
    "    levels_high = np.linspace(max_loglik + 0.001, lls.max(), 10)  # Adding a small value to prevent duplicates\n",
    "    levels = levels_low\n",
    "    \n",
    "    # Plot the contour filled plot\n",
    "    contour = ax1.contourf(X, Y, lls.T, levels=levels, cmap='magma')\n",
    "    \n",
    "    # Plot the contour lines\n",
    "    contour_lines = ax1.contour(X, Y, lls.T, levels=levels, colors='black', linewidths=0.5, alpha=0.6)\n",
    "    \n",
    "    # Add contour labels\n",
    "    ax1.clabel(contour_lines, inline=True, fontsize=10, colors='black', fmt='%1.2f')\n",
    "    \n",
    "    ax1.set_xlabel('Mu')\n",
    "    ax1.set_ylabel('Sigma')\n",
    "    ax1.set_title('Contour Plot of Log Likelihood')\n",
    "    \n",
    "    # Add maximum log likelihood point as scatter on the contour plot\n",
    "    ax1.scatter([max_mu], [max_sigma], color='red', marker='o', label='Maximum Log Likelihood')\n",
    "    ax1.annotate(f'Max LL: {max_loglik:.2f}', (max_mu, max_sigma), textcoords=\"offset points\", xytext=(0,10), ha='center', fontsize=10, color='red', bbox=dict(facecolor='white', alpha=0.8, edgecolor='none', boxstyle='round,pad=0.3'))\n",
    "\n",
    "    ax1.axvline(max_mu, color='red', linestyle='--', alpha=0.5)\n",
    "    ax1.axhline(max_sigma, color='red', linestyle='--', alpha=0.5)\n",
    "    \n",
    "    # Create colorbar outside the plot\n",
    "    divider = make_axes_locatable(ax1)\n",
    "    cax = divider.append_axes(\"right\", size=\"5%\", pad=0.05)\n",
    "    cbar = plt.colorbar(contour, cax=cax)\n",
    "    cbar.set_label('Log Likelihood', rotation=270, labelpad=15)\n",
    "    \n",
    "    plt.tight_layout()\n",
    "    plt.show()\n",
    "\n"
   ]
  },
  {
   "cell_type": "code",
   "execution_count": null,
   "id": "47a4e2bd",
   "metadata": {},
   "outputs": [],
   "source": [
    "def get_lls(mus, sigmas):\n",
    "\n",
    "    lls = torch.zeros((len(mus), len(sigmas)))\n",
    "    for i, mu in enumerate(mus):\n",
    "        for j, sigma in enumerate(sigmas):\n",
    "\n",
    "            lls[i, j] = ll(mu, sigma)[1]\n",
    "    return lls"
   ]
  },
  {
   "cell_type": "code",
   "execution_count": null,
   "id": "3d3d6155",
   "metadata": {},
   "outputs": [],
   "source": [
    "mus = torch.linspace(1.5, 2.5, 100)\n",
    "sigmas = torch.linspace(3.5, 4.5,100)\n",
    "lls = get_lls(mus, sigmas)\n",
    "plot_lls(mus, sigmas, lls)"
   ]
  },
  {
   "cell_type": "code",
   "execution_count": null,
   "id": "283ddd23",
   "metadata": {},
   "outputs": [],
   "source": [
    "def ll_func(samples,loc,scale):\n",
    "    y = (len(samples)/2)*torch.log(2*torch.pi*(scale**2)) + (1/(2*(scale**2)))*torch.sum((samples - loc)**2)\n",
    "    return y"
   ]
  },
  {
   "cell_type": "code",
   "execution_count": null,
   "id": "cbfa6744",
   "metadata": {},
   "outputs": [],
   "source": [
    "\n",
    "loc = torch.tensor(random.random(), requires_grad=True)\n",
    "scale = torch.tensor(random.random(), requires_grad=True)\n",
    "# Gradient descent loop\n",
    "n_epochs = 1000\n",
    "optimizer = torch.optim.SGD([loc,scale], lr=0.0005)\n",
    "out_list = []\n",
    "for epoch_itr in range(n_epochs):\n",
    "    optimizer.zero_grad()\n",
    "    out = ll_func(samples,loc,scale)\n",
    "    # print(loc,scale,out)\n",
    "    out.backward()\n",
    "    optimizer.step()\n",
    "    out_list.append(out.detach().numpy())\n",
    "    \n",
    "fig, ax = plt.subplots(1, 1, figsize=(10, 4))\n",
    "ax.plot(range(n_epochs),out_list,label=\"Log Likelihood\")\n",
    "ax.set_xlabel(\"Number of Epochs\")\n",
    "ax.set_ylabel(\"Function Value\")\n",
    "ax.legend()\n",
    "plt.show()\n",
    "\n",
    "print(f\"Estimated mu is:{loc.detach().numpy()} and sigma is: {scale.detach().numpy()}\")"
   ]
  },
  {
   "cell_type": "code",
   "execution_count": null,
   "id": "1e81ee85",
   "metadata": {},
   "outputs": [],
   "source": [
    "def ll_func_log_scale(samples,loc,log_scale):\n",
    "    y = (len(samples)/2)*torch.log(2*math.pi*(torch.exp(log_scale)**2)) + (1/(2*(torch.exp(log_scale)**2)))*torch.sum((samples - loc)**2)\n",
    "    return y"
   ]
  },
  {
   "cell_type": "code",
   "execution_count": null,
   "id": "8cdd91e3",
   "metadata": {},
   "outputs": [],
   "source": [
    "\n",
    "loc = torch.tensor(random.random(), requires_grad=True)\n",
    "log_scale = torch.tensor(random.random(), requires_grad=True)\n",
    "# Gradient descent loop\n",
    "n_epochs = 1000\n",
    "optimizer = torch.optim.SGD([loc,log_scale], lr=0.0005)\n",
    "out_list = []\n",
    "for epoch_itr in range(n_epochs):\n",
    "    optimizer.zero_grad()\n",
    "    out = ll_func_log_scale(samples,loc,log_scale)\n",
    "    # print(loc,scale,out)\n",
    "    out.backward()\n",
    "    optimizer.step()\n",
    "    out_list.append(out.detach().numpy())\n",
    "    \n",
    "fig, ax = plt.subplots(1, 1, figsize=(10, 4))\n",
    "ax.plot(range(n_epochs),out_list,label=\"Log Likelihood\")\n",
    "ax.set_xlabel(\"Number of Epochs\")\n",
    "ax.set_ylabel(\"Function Value\")\n",
    "ax.legend()\n",
    "plt.show()\n",
    "\n",
    "print(f\"Estimated mu is:{loc.detach().numpy()} and sigma is: {log_scale.detach().numpy()}\")"
   ]
  },
  {
   "cell_type": "code",
   "execution_count": null,
   "metadata": {},
   "outputs": [],
   "source": [
    "torch.exp(log_scale)"
   ]
  },
  {
   "cell_type": "markdown",
   "id": "171a1ae2",
   "metadata": {},
   "source": [
    "Conclusion: During the process of finding the Maximum Likelihood Estimation (MLE) parameters for the (loc) and scale using gradient descent, the parameters do not converge effectively, and their values cannot be consistently reproduced. However, when employing a Log scale, numerical stability is enhanced, resulting in consistent and reproducible values.\n",
    "\n",
    "  "
   ]
  },
  {
   "cell_type": "markdown",
   "id": "7179de34",
   "metadata": {},
   "source": [
    "# Question 3:"
   ]
  },
  {
   "cell_type": "code",
   "execution_count": null,
   "id": "5fe95978",
   "metadata": {},
   "outputs": [],
   "source": [
    "normal = torch.distributions.Normal(loc=2, scale=4)\n",
    "# samples = normal.sample((1000,))\n",
    "\n",
    "fig, ax = plt.subplots(1, 2, figsize=(12, 4))\n",
    "xs = torch.linspace(-50, 50,1001)\n",
    "y_logpdf = normal.log_prob(xs)\n",
    "y_pdf = normal.log_prob(xs).exp()\n",
    "fig.suptitle(f'LogPDF and PDF for Normal dist with loc=2 and scale=4:', fontsize=20)\n",
    "ax[0].plot(xs,y_logpdf)\n",
    "ax[0].set_xlabel(\"Sample value\")\n",
    "ax[0].set_ylabel(\"Log(Probability density function)\")\n",
    "ax[1].plot(xs,y_pdf)\n",
    "ax[1].set_xlabel(\"Sample value\")\n",
    "ax[1].set_ylabel(\"Probability density function\")\n",
    "plt.show()\n",
    "# plt.scatter(samples, np.zeros_like(samples))"
   ]
  },
  {
   "cell_type": "code",
   "execution_count": null,
   "id": "2936efb1",
   "metadata": {},
   "outputs": [],
   "source": [
    "import torch\n",
    "import matplotlib.pyplot as plt\n",
    "\n",
    "# Create a range of degrees of freedom\n",
    "dfs = range(1, 9)\n",
    "\n",
    "fig, ax = plt.subplots(1,2,figsize=(10, 6))\n",
    "\n",
    "for df in dfs:\n",
    "    dist = torch.distributions.studentT.StudentT(df=df)\n",
    "    xs = torch.linspace(-50, 50, 1001)\n",
    "    y_logpdf = dist.log_prob(xs)\n",
    "    y_pdf = y_logpdf.exp()\n",
    "\n",
    "    ax[0].plot(xs, y_logpdf, label=f'df = {df} (LogPDF)')\n",
    "    ax[0].set_title(\"LogPDF for Student's t-distribution\")\n",
    "    ax[0].set_xlabel(\"Sample value\")\n",
    "    ax[0].set_ylabel(\"Probability density\")\n",
    "    ax[0].legend()\n",
    "    ax[1].plot(xs, y_pdf, linestyle='dashed', label=f'df = {df} (PDF)')\n",
    "    ax[1].set_title(\"PDF for Student's t-distribution\")\n",
    "    ax[1].set_xlabel(\"Sample value\")\n",
    "    ax[1].set_ylabel(\"Probability density\")\n",
    "    ax[1].legend();\n"
   ]
  },
  {
   "cell_type": "markdown",
   "id": "7f1a6f7c",
   "metadata": {},
   "source": [
    "# Conclusion from the graphs\n",
    "\n"
   ]
  },
  {
   "cell_type": "markdown",
   "id": "62cd3a4d",
   "metadata": {},
   "source": [
    "With increasing degrees of freedom, the pdf values are almost similar at the peaks and difficult to differentiate across DoF due to floating point precision. While the pdf values are zeroed for the samples at the tails due to underflow.\n",
    "For logPDF values even at tails or near the peaks, values with varying DoF have significant differences and are not zeroed."
   ]
  },
  {
   "cell_type": "markdown",
   "id": "ed0dfc94",
   "metadata": {},
   "source": [
    "# Question 4"
   ]
  },
  {
   "cell_type": "code",
   "execution_count": null,
   "id": "134f2054",
   "metadata": {},
   "outputs": [],
   "source": [
    "n_samples = 1000\n",
    "exp_dist = torch.distributions.exponential.Exponential(rate=1)\n",
    "samples = exp_dist.sample((n_samples,))"
   ]
  },
  {
   "cell_type": "code",
   "execution_count": null,
   "id": "056e8690",
   "metadata": {
    "scrolled": true
   },
   "outputs": [],
   "source": [
    "plt.scatter(range(n_samples),samples)"
   ]
  },
  {
   "cell_type": "code",
   "execution_count": null,
   "id": "ab22949c",
   "metadata": {},
   "outputs": [],
   "source": [
    "def func(x,log_rate):\n",
    "    y = -log_rate + (torch.exp(log_rate)*x)\n",
    "    return y"
   ]
  },
  {
   "cell_type": "code",
   "execution_count": null,
   "id": "05fe6f2b",
   "metadata": {},
   "outputs": [],
   "source": [
    "log_rate = torch.tensor(random.random(), requires_grad=True)\n",
    "# Gradient descent loop\n",
    "n_epochs = 200\n",
    "optimizer = torch.optim.SGD([log_rate], lr=0.0001)\n",
    "out_list = []\n",
    "for epoch_itr in range(n_epochs):\n",
    "    optimizer.zero_grad()\n",
    "    out = torch.sum(func(samples,log_rate))\n",
    "    print(log_rate,out)\n",
    "    \n",
    "    out.backward()\n",
    "    optimizer.step()\n",
    "    out_list.append(out.detach().numpy())"
   ]
  },
  {
   "cell_type": "code",
   "execution_count": null,
   "id": "ae316952",
   "metadata": {},
   "outputs": [],
   "source": [
    "fig, ax = plt.subplots(1, 1, figsize=(10, 4))\n",
    "ax.plot(range(n_epochs),out_list)\n",
    "ax.set_xlabel(\"Number of Epochs\")\n",
    "ax.set_ylabel(\"Function Value\")\n",
    "plt.show()"
   ]
  },
  {
   "cell_type": "code",
   "execution_count": null,
   "id": "0315b804",
   "metadata": {},
   "outputs": [],
   "source": [
    "print(f\"Analytical value of rate: {n_samples/sum(samples)}, Rate optimised using SGD: {math.exp(log_rate)}\")"
   ]
  },
  {
   "cell_type": "markdown",
   "id": "63fd340f",
   "metadata": {},
   "source": [
    "# Question 5"
   ]
  },
  {
   "cell_type": "code",
   "execution_count": null,
   "id": "87855017",
   "metadata": {},
   "outputs": [],
   "source": [
    "def ll_func(samples,loc,scale):\n",
    "    y = (len(samples)/2)*torch.log(2*torch.pi*(scale**2)) + (1/(2*(scale**2)))*torch.sum((samples - loc)**2)\n",
    "    return y"
   ]
  },
  {
   "cell_type": "code",
   "execution_count": 54,
   "id": "03a9a18a",
   "metadata": {},
   "outputs": [
    {
     "name": "stdout",
     "output_type": "stream",
     "text": [
      "----------------------------------------\n",
      "Number of samples: 10\n"
     ]
    },
    {
     "name": "stdout",
     "output_type": "stream",
     "text": [
      "From Gradient Descent, Estimated mu is:0.9091446995735168 and sigma is: 3.929197072982788\n",
      "Analytically, Estimated mu is:0.9091453552246094 and sigma is: 4.282902240753174\n",
      "From Gradient Descent, Estimated mu is:1.304591178894043 and sigma is: 2.7181289196014404\n",
      "Analytically, Estimated mu is:1.3045953512191772 and sigma is: 2.7321977615356445\n",
      "From Gradient Descent, Estimated mu is:1.4939578771591187 and sigma is: 2.81455397605896\n",
      "Analytically, Estimated mu is:1.4939601421356201 and sigma is: 2.8147473335266113\n",
      "From Gradient Descent, Estimated mu is:2.0088415145874023 and sigma is: 3.208085298538208\n",
      "Analytically, Estimated mu is:2.0088624954223633 and sigma is: 3.36712908744812\n",
      "From Gradient Descent, Estimated mu is:2.7941274642944336 and sigma is: 0.487662672996521\n",
      "Analytically, Estimated mu is:3.4143900871276855 and sigma is: 4.521202564239502\n",
      "----------------------------------------\n",
      "Number of samples: 20\n",
      "From Gradient Descent, Estimated mu is:3.37868595123291 and sigma is: 3.2993741035461426\n",
      "Analytically, Estimated mu is:3.3881404399871826 and sigma is: 4.165970802307129\n",
      "From Gradient Descent, Estimated mu is:2.0080344676971436 and sigma is: 3.6807515621185303\n",
      "Analytically, Estimated mu is:2.0080504417419434 and sigma is: 3.7220919132232666\n",
      "From Gradient Descent, Estimated mu is:1.9819672107696533 and sigma is: 3.536576747894287\n",
      "Analytically, Estimated mu is:1.9819753170013428 and sigma is: 3.601503372192383\n",
      "From Gradient Descent, Estimated mu is:3.7204275131225586 and sigma is: 1.7156448364257812\n",
      "Analytically, Estimated mu is:3.7796120643615723 and sigma is: 2.637225389480591\n",
      "From Gradient Descent, Estimated mu is:3.0118560791015625 and sigma is: 1.5949957370758057\n",
      "Analytically, Estimated mu is:3.127784013748169 and sigma is: 3.8212809562683105\n",
      "----------------------------------------\n",
      "Number of samples: 50\n",
      "From Gradient Descent, Estimated mu is:2.195262908935547 and sigma is: 4.114556312561035\n",
      "Analytically, Estimated mu is:2.1952788829803467 and sigma is: 4.305357933044434\n",
      "From Gradient Descent, Estimated mu is:1.3293097019195557 and sigma is: 1.561234712600708\n",
      "Analytically, Estimated mu is:1.3293269872665405 and sigma is: 4.1324615478515625\n",
      "From Gradient Descent, Estimated mu is:1.9642608165740967 and sigma is: 3.294806957244873\n",
      "Analytically, Estimated mu is:1.964270830154419 and sigma is: 4.150390625\n",
      "From Gradient Descent, Estimated mu is:2.6473429203033447 and sigma is: 0.516251802444458\n",
      "Analytically, Estimated mu is:2.989473581314087 and sigma is: 3.9848177433013916\n",
      "From Gradient Descent, Estimated mu is:1.3751857280731201 and sigma is: 3.851363182067871\n",
      "Analytically, Estimated mu is:1.3751893043518066 and sigma is: 3.87164306640625\n",
      "----------------------------------------\n",
      "Number of samples: 100\n",
      "From Gradient Descent, Estimated mu is:2.1483988761901855 and sigma is: 3.3763346672058105\n",
      "Analytically, Estimated mu is:2.1485648155212402 and sigma is: 4.09775972366333\n",
      "From Gradient Descent, Estimated mu is:1.1892569065093994 and sigma is: 3.757753610610962\n",
      "Analytically, Estimated mu is:1.1892578601837158 and sigma is: 3.8939290046691895\n",
      "From Gradient Descent, Estimated mu is:2.0423319339752197 and sigma is: 0.6753352284431458\n",
      "Analytically, Estimated mu is:2.1185224056243896 and sigma is: 3.965127944946289\n",
      "From Gradient Descent, Estimated mu is:2.325850486755371 and sigma is: 3.6157023906707764\n",
      "Analytically, Estimated mu is:2.3258705139160156 and sigma is: 3.6547532081604004\n",
      "From Gradient Descent, Estimated mu is:1.9303418397903442 and sigma is: 2.193993091583252\n",
      "Analytically, Estimated mu is:1.9316070079803467 and sigma is: 4.080774307250977\n",
      "----------------------------------------\n",
      "Number of samples: 500\n",
      "From Gradient Descent, Estimated mu is:2.251962661743164 and sigma is: 2.573594331741333\n",
      "Analytically, Estimated mu is:2.2584640979766846 and sigma is: 4.04840612411499\n",
      "From Gradient Descent, Estimated mu is:2.0233895778656006 and sigma is: 2.0365664958953857\n",
      "Analytically, Estimated mu is:2.023664712905884 and sigma is: 4.048581600189209\n",
      "From Gradient Descent, Estimated mu is:2.12796688079834 and sigma is: 1.493315577507019\n",
      "Analytically, Estimated mu is:2.128814697265625 and sigma is: 3.8864963054656982\n",
      "From Gradient Descent, Estimated mu is:2.073183298110962 and sigma is: 3.175158739089966\n",
      "Analytically, Estimated mu is:2.0734217166900635 and sigma is: 3.937692403793335\n",
      "From Gradient Descent, Estimated mu is:1.762835144996643 and sigma is: 3.647217035293579\n",
      "Analytically, Estimated mu is:1.7628421783447266 and sigma is: 4.1041364669799805\n",
      "----------------------------------------\n",
      "Number of samples: 1000\n",
      "From Gradient Descent, Estimated mu is:2.115640878677368 and sigma is: 3.508688449859619\n",
      "Analytically, Estimated mu is:2.1156728267669678 and sigma is: 4.112724781036377\n",
      "From Gradient Descent, Estimated mu is:2.034874677658081 and sigma is: 3.6475677490234375\n",
      "Analytically, Estimated mu is:2.034904956817627 and sigma is: 4.115437030792236\n",
      "From Gradient Descent, Estimated mu is:2.2179229259490967 and sigma is: 3.679600715637207\n",
      "Analytically, Estimated mu is:2.217945098876953 and sigma is: 3.9210550785064697\n",
      "From Gradient Descent, Estimated mu is:1.9659565687179565 and sigma is: 3.8209946155548096\n",
      "Analytically, Estimated mu is:1.9659632444381714 and sigma is: 3.9962310791015625\n",
      "From Gradient Descent, Estimated mu is:1.7642673254013062 and sigma is: 3.3367154598236084\n",
      "Analytically, Estimated mu is:1.764277696609497 and sigma is: 4.100193500518799\n",
      "----------------------------------------\n",
      "Number of samples: 5000\n",
      "From Gradient Descent, Estimated mu is:1.9695346355438232 and sigma is: 3.914970636367798\n",
      "Analytically, Estimated mu is:1.9695404767990112 and sigma is: 3.9655580520629883\n",
      "From Gradient Descent, Estimated mu is:2.0116126537323 and sigma is: 3.0568923950195312\n",
      "Analytically, Estimated mu is:2.0116491317749023 and sigma is: 4.025679588317871\n",
      "From Gradient Descent, Estimated mu is:2.1045031547546387 and sigma is: 2.81042742729187\n",
      "Analytically, Estimated mu is:2.1046056747436523 and sigma is: 3.9677629470825195\n",
      "From Gradient Descent, Estimated mu is:1.9982699155807495 and sigma is: 3.095010995864868\n",
      "Analytically, Estimated mu is:1.9982799291610718 and sigma is: 4.0331573486328125\n",
      "From Gradient Descent, Estimated mu is:1.9308310747146606 and sigma is: 1.9511431455612183\n",
      "Analytically, Estimated mu is:1.9314521551132202 and sigma is: 4.015658855438232\n",
      "----------------------------------------\n",
      "Number of samples: 10000\n",
      "From Gradient Descent, Estimated mu is:1.9571785926818848 and sigma is: 3.36608624458313\n",
      "Analytically, Estimated mu is:1.9572064876556396 and sigma is: 4.007535934448242\n",
      "From Gradient Descent, Estimated mu is:1.9086393117904663 and sigma is: 0.5598862767219543\n",
      "Analytically, Estimated mu is:1.984628677368164 and sigma is: 4.02278470993042\n",
      "From Gradient Descent, Estimated mu is:2.0239672660827637 and sigma is: 1.1468663215637207\n",
      "Analytically, Estimated mu is:2.0264804363250732 and sigma is: 3.971975564956665\n",
      "From Gradient Descent, Estimated mu is:2.0266549587249756 and sigma is: 3.222276449203491\n",
      "Analytically, Estimated mu is:2.026850461959839 and sigma is: 4.007754802703857\n",
      "From Gradient Descent, Estimated mu is:1.9664100408554077 and sigma is: 3.9498536586761475\n",
      "Analytically, Estimated mu is:1.9664150476455688 and sigma is: 4.00838041305542\n"
     ]
    }
   ],
   "source": [
    "n_samples_list = [10, 20, 50, 100, 500, 1000, 5000, 10000] \n",
    "seed_list = list(range(5))\n",
    "est_loc_list = []\n",
    "est_scale_list = []\n",
    "for n_sample in n_samples_list:\n",
    "    print(\"----------------------------------------\")\n",
    "    print(f\"Number of samples: {n_sample}\")\n",
    "    loc_list = []\n",
    "    scale_list = []\n",
    "    for seed in seed_list:\n",
    "        # generate samples from distribution\n",
    "        torch.manual_seed(seed)\n",
    "        norm_dist = torch.distributions.Normal(loc=2, scale=4)\n",
    "        samples = norm_dist.sample((n_sample,))\n",
    "        \n",
    "        # \n",
    "        loc = torch.tensor(random.random(), requires_grad=True)\n",
    "        scale = torch.tensor(random.random(), requires_grad=True)\n",
    "        # Gradient descent loop\n",
    "        n_epochs = 10000\n",
    "        optimizer = torch.optim.Adam([loc,scale],lr=0.001)\n",
    "        out_list = []\n",
    "        for epoch_itr in range(n_epochs):\n",
    "            optimizer.zero_grad()\n",
    "            out = ll_func(samples,loc,scale)\n",
    "#             print(loc,scale,out)\n",
    "            out.backward()\n",
    "            optimizer.step()\n",
    "            out_list.append(out.detach().numpy())\n",
    "            \n",
    "#         fig, ax = plt.subplots(1, 1, figsize=(10, 4))\n",
    "#         ax.plot(range(n_epochs),out_list,linestyle = 'dotted')\n",
    "#         ax.set_xlabel(\"Number of Epochs\")\n",
    "#         ax.set_ylabel(\"Function Value\")\n",
    "#         plt.show()\n",
    "        loc_list.append(loc.detach().numpy())\n",
    "        scale_list.append(scale.detach().numpy())\n",
    "    \n",
    "        print(f\"From Gradient Descent, Estimated mu is:{loc.detach().numpy()} and sigma is: {scale.detach().numpy()}\")\n",
    "        print(f\"Analytically, Estimated mu is:{sum(samples)/n_sample} and sigma is: {(sum((samples-sum(samples)/n_sample)**2)/n_sample)**0.5}\")\n",
    "    \n",
    "    est_loc_list.append(loc_list)\n",
    "    est_scale_list.append(scale_list)"
   ]
  },
  {
   "cell_type": "code",
   "execution_count": 55,
   "id": "f2271976",
   "metadata": {},
   "outputs": [
    {
     "data": {
      "image/png": "[encoded data removed]",
      "text/plain": [
       "<Figure size 1000x400 with 2 Axes>"
      ]
     },
     "metadata": {},
     "output_type": "display_data"
    }
   ],
   "source": [
    "fig, ax = plt.subplots(1, 2, figsize=(10, 4))\n",
    "fig.suptitle(f'Estimated loc and scale w.r.t dataset size for Normal dist with loc=2 and scale=4:', fontsize=20)\n",
    "ax[0].boxplot(est_loc_list, positions=range(len(n_samples_list)))\n",
    "# ax[0].plot(n_samples_list,est_loc_list)\n",
    "ax[0].set_xlabel(\"Dataset Size\")\n",
    "ax[0].set_ylabel(\"Estimated loc value using SGD\")\n",
    "ax[1].boxplot(est_scale_list, positions=range(len(n_samples_list)))\n",
    "ax[1].set_xlabel(\"Dataset Size\")\n",
    "ax[1].set_ylabel(\"Estimated scale value using SGD\")\n",
    "plt.show()"
   ]
  },
  {
   "cell_type": "code",
   "execution_count": null,
   "id": "e3d3a9f7",
   "metadata": {},
   "outputs": [],
   "source": []
  }
 ],
 "metadata": {
  "kernelspec": {
   "display_name": "Python 3 (ipykernel)",
   "language": "python",
   "name": "python3"
  },
  "language_info": {
   "codemirror_mode": {
    "name": "ipython",
    "version": 3
   },
   "file_extension": ".py",
   "mimetype": "text/x-python",
   "name": "python",
   "nbconvert_exporter": "python",
   "pygments_lexer": "ipython3",
   "version": "3.11.4"
  }
 },
 "nbformat": 4,
 "nbformat_minor": 5
}
