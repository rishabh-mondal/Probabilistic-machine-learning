{
 "cells": [
  {
   "cell_type": "code",
   "execution_count": 1,
   "metadata": {},
   "outputs": [],
   "source": [
    "import torch\n",
    "import numpy as np\n",
    "from scipy import integrate\n",
    "import matplotlib.pyplot as plt\n",
    "import seaborn as sns\n",
    "import emcee\n",
    "from sklearn import preprocessing\n",
    "import torch.nn as nn\n",
    "import functorch\n",
    "import matplotlib.gridspec as gridspec\n",
    "device = torch.device(\"cuda\" if torch.cuda.is_available() else \"cpu\")\n",
    "\n",
    "%matplotlib inline"
   ]
  },
  {
   "cell_type": "markdown",
   "metadata": {},
   "source": [
    "## Question:4\n",
    "[2 marks] Write the Random walk Metropolis Hastings algorithms from scratch. Take 1000 samples using below given log probs and compare the mean and covariance matrix with hamiltorch’s standard HMC and emcee’s Metropolis Hastings implementation. Use 500 samples as the burn/warm up samples. Also check the relation between acceptance ratio and the sigma of the proposal distribution in your from scratch implementation. Use the log likelihood function given below."
   ]
  },
  {
   "cell_type": "code",
   "execution_count": 2,
   "metadata": {},
   "outputs": [],
   "source": [
    "import torch.distributions as D\n",
    "def log_ll(omega):\n",
    "#     omega = torch.tensor(omega)\n",
    "    mean = torch.tensor([0., 0.])\n",
    "    stddev = torch.tensor([0.5, 1.])\n",
    "    return D.MultivariateNormal(mean, torch.diag(stddev**2)).log_prob(omega).sum()"
   ]
  },
  {
   "cell_type": "code",
   "execution_count": 3,
   "metadata": {},
   "outputs": [],
   "source": [
    "#TODO: Compare the step size with acceptance ratio\n",
    "\n",
    "num_samples = 1000\n",
    "step_size_list = [0.05]\n",
    "# uni_dist\n",
    "\n",
    "for step_size in step_size_list:\n",
    "    init_dist = D.MultivariateNormal(torch.zeros(2), step_size*torch.eye(2))\n",
    "    init_sample = init_dist.sample()\n",
    "    mc_samples = [init_sample.detach().numpy()]\n",
    "    acc_cnt = 0\n",
    "    for step_itr in range(num_samples):\n",
    "        next_sample = torch.tensor(mc_samples[-1]) + init_dist.sample()\n",
    "        move_crit = log_ll(next_sample) - log_ll(torch.tensor(mc_samples[-1]))\n",
    "#         print(move_crit,next_sample,mc_samples[-1])\n",
    "        if move_crit > torch.log(torch.rand(1)):\n",
    "            mc_samples.append(next_sample.detach().numpy())\n",
    "            acc_cnt +=1\n",
    "        else:\n",
    "            mc_samples.append(mc_samples[-1])"
   ]
  },
  {
   "cell_type": "code",
   "execution_count": 4,
   "metadata": {},
   "outputs": [
    {
     "data": {
      "text/plain": [
       "0.804"
      ]
     },
     "execution_count": 4,
     "metadata": {},
     "output_type": "execute_result"
    }
   ],
   "source": [
    "acceptance_ratio = acc_cnt/1000\n",
    "acceptance_ratio"
   ]
  },
  {
   "cell_type": "code",
   "execution_count": null,
   "metadata": {},
   "outputs": [],
   "source": [
    "filt_samples = np.asarray(mc_samples)[500:,:]\n",
    "plt.scatter(filt_samples[:,0],filt_samples[:,1])"
   ]
  },
  {
   "cell_type": "code",
   "execution_count": null,
   "metadata": {},
   "outputs": [],
   "source": [
    "torch.mean(torch.tensor(filt_samples),0), torch.cov(torch.tensor(filt_samples).T)"
   ]
  },
  {
   "cell_type": "code",
   "execution_count": null,
   "metadata": {},
   "outputs": [],
   "source": [
    "# HMC\n",
    "import hamiltorch\n",
    "hamiltorch.set_random_seed(123)\n",
    "params_init = torch.zeros(2)\n",
    "L = 5\n",
    "params_hmc = hamiltorch.sample(log_prob_func=log_ll, params_init=params_init, num_samples=num_samples,\n",
    "                               step_size=step_size_list[0], num_steps_per_sample=L)"
   ]
  },
  {
   "cell_type": "code",
   "execution_count": null,
   "metadata": {},
   "outputs": [],
   "source": [
    "out = torch.stack(params_hmc).detach().numpy()"
   ]
  },
  {
   "cell_type": "code",
   "execution_count": null,
   "metadata": {},
   "outputs": [],
   "source": [
    "plt.scatter(out[500:,0],out[500:,1])"
   ]
  },
  {
   "cell_type": "code",
   "execution_count": null,
   "metadata": {},
   "outputs": [],
   "source": [
    "torch.mean(torch.stack(params_hmc),0), torch.cov(torch.stack(params_hmc).T)"
   ]
  },
  {
   "cell_type": "code",
   "execution_count": null,
   "metadata": {},
   "outputs": [],
   "source": [
    "# EMCEE implementation"
   ]
  },
  {
   "cell_type": "code",
   "execution_count": null,
   "metadata": {},
   "outputs": [],
   "source": [
    "np.random.seed(93284)\n",
    "init = np.random.randn(3, 2)\n",
    "nwalkers, ndim = init.shape\n",
    "\n",
    "def log_ll_emcee(omega):\n",
    "    omega = torch.tensor(omega)\n",
    "    mean = torch.tensor([0., 0.])\n",
    "    stddev = torch.tensor([0.5, 1.])\n",
    "    return D.MultivariateNormal(mean, torch.diag(stddev**2)).log_prob(omega).sum()\n",
    "\n",
    "sampler = emcee.EnsembleSampler(\n",
    "    nwalkers,\n",
    "    ndim,\n",
    "    log_ll_emcee,\n",
    "    moves=[\n",
    "        (emcee.moves.GaussianMove(step_size*torch.eye(2).detach().numpy()), 1.0)\n",
    "    ],\n",
    ")\n",
    "sampler.run_mcmc(init, 1000)"
   ]
  },
  {
   "cell_type": "code",
   "execution_count": null,
   "metadata": {},
   "outputs": [],
   "source": [
    "sampled_obs = sampler.get_chain()[500:, 0, :]"
   ]
  },
  {
   "cell_type": "code",
   "execution_count": null,
   "metadata": {},
   "outputs": [],
   "source": [
    "plt.scatter(sampled_obs[:,0],sampled_obs[:,1])"
   ]
  },
  {
   "cell_type": "code",
   "execution_count": null,
   "metadata": {},
   "outputs": [],
   "source": [
    "torch.mean(torch.tensor(sampled_obs),0), torch.cov(torch.tensor(sampled_obs).T)"
   ]
  },
  {
   "cell_type": "code",
   "execution_count": null,
   "metadata": {},
   "outputs": [],
   "source": [
    "sampler.acceptance_fraction"
   ]
  },
  {
   "cell_type": "markdown",
   "metadata": {},
   "source": [
    "## Question 3 : "
   ]
  },
  {
   "cell_type": "code",
   "execution_count": 5,
   "metadata": {},
   "outputs": [
    {
     "data": {
      "text/plain": [
       "device(type='cuda')"
      ]
     },
     "execution_count": 5,
     "metadata": {},
     "output_type": "execute_result"
    }
   ],
   "source": [
    "device"
   ]
  },
  {
   "cell_type": "code",
   "execution_count": 6,
   "metadata": {},
   "outputs": [
    {
     "name": "stderr",
     "output_type": "stream",
     "text": [
      "/home/rishabh.mondal/miniconda3/envs/torch_env/lib/python3.11/site-packages/astra/torch/data.py:12: UserWarning: TORCH_HOME not set, setting it to /home/rishabh.mondal/.cache/torch\n",
      "  warnings.warn(f\"TORCH_HOME not set, setting it to {os.environ['TORCH_HOME']}\")\n"
     ]
    },
    {
     "data": {
      "text/plain": [
       "torch.Size([70000, 28, 28])"
      ]
     },
     "execution_count": 6,
     "metadata": {},
     "output_type": "execute_result"
    }
   ],
   "source": [
    "from astra.torch.data import load_mnist\n",
    "ds=load_mnist()\n",
    "ds.data.shape"
   ]
  },
  {
   "cell_type": "code",
   "execution_count": 7,
   "metadata": {},
   "outputs": [],
   "source": [
    "# Read 1000 images from ds xarray dataset into PyTorch tensors\n",
    "# print(ds['img'])\n",
    "imgs = ds.data[:1000,:,:]"
   ]
  },
  {
   "cell_type": "code",
   "execution_count": 8,
   "metadata": {},
   "outputs": [
    {
     "data": {
      "text/plain": [
       "tensor([ True, False, False,  ..., False,  True, False])"
      ]
     },
     "execution_count": 8,
     "metadata": {},
     "output_type": "execute_result"
    }
   ],
   "source": [
    "ds.targets == 5"
   ]
  },
  {
   "cell_type": "code",
   "execution_count": 9,
   "metadata": {},
   "outputs": [
    {
     "data": {
      "image/png": "[encoded data removed]",
      "text/plain": [
       "<Figure size 800x400 with 10 Axes>"
      ]
     },
     "metadata": {},
     "output_type": "display_data"
    }
   ],
   "source": [
    "# Plot the first 10 images\n",
    "fig, axes = plt.subplots(2, 5, figsize=(8, 4), sharex=True, sharey=True)\n",
    "axes = axes.flatten()\n",
    "for i, ax in enumerate(axes):\n",
    "    ax.imshow(imgs[i].view(28, 28).cpu().numpy(), cmap='gray')\n",
    "    ax.set_title(f'Image {i}')\n",
    "    ax.set_xticks([])\n",
    "    ax.set_yticks([])"
   ]
  },
  {
   "cell_type": "code",
   "execution_count": 10,
   "metadata": {},
   "outputs": [],
   "source": [
    "# Create a coordinate dataset from the image\n",
    "def create_coordinate_map(img):\n",
    "    \"\"\"\n",
    "    img: torch.Tensor of shape (num_channels, height, width)\n",
    "    \n",
    "    return: tuple of torch.Tensor of shape (height* width, 2) and torch.tensor containing the (num_channels)\n",
    "    \"\"\"\n",
    "    \n",
    "    num_channels=1\n",
    "    height, width = img.shape\n",
    "    scaler_img = preprocessing.MinMaxScaler().fit(img.reshape(-1, 1))\n",
    "    img_scaled = scaler_img.transform(img.reshape(-1, 1)).reshape(img.shape)\n",
    "\n",
    "\n",
    "\n",
    "    # Create a 2D grid of (x,y) coordinates\n",
    "    x_coords = torch.arange(width).repeat(height, 1)\n",
    "    y_coords = torch.arange(height).repeat(width, 1).t()\n",
    "    x_coords = x_coords.reshape(-1)\n",
    "    y_coords = y_coords.reshape(-1)\n",
    "    \n",
    "    # Combine the x and y coordinates into a single tensor\n",
    "    X = torch.stack([x_coords, y_coords], dim=1).float()\n",
    "\n",
    "    # Move X to GPU if available\n",
    "    X = X.to(device)\n",
    "#     print(type(X))\n",
    "    # Create a tensor containing the image pixel values\n",
    "    Y = torch.tensor(img_scaled.reshape(-1, 1)).float().to(device) # Check without .flatten()\n",
    "    return X, Y"
   ]
  },
  {
   "cell_type": "code",
   "execution_count": 11,
   "metadata": {},
   "outputs": [],
   "source": [
    "# X,Y = create_coordinate_map(imgs[0])\n",
    "\n",
    "# # MinMaxScaler from -1 to 1\n",
    "# scaler_X = preprocessing.MinMaxScaler(feature_range=(-1, 1)).fit(X.cpu())\n",
    "\n",
    "# # Scale the X coordinates\n",
    "# X_scaled = scaler_X.transform(X.cpu())\n",
    "\n",
    "# # Move the scaled X coordinates to the GPU\n",
    "# X_scaled = torch.tensor(X_scaled).to(device)\n",
    "\n",
    "# # Set to dtype float32\n",
    "# X_scaled = X_scaled.float()\n",
    "# # num_channels, height, width = imgs[0].shape\n",
    "# # img = imgs[0]\n",
    "# X_scaled,Y"
   ]
  },
  {
   "cell_type": "code",
   "execution_count": 12,
   "metadata": {},
   "outputs": [],
   "source": [
    "# Create a MLP with 5 hidden layers with 256 neurons each and ReLU activations.\n",
    "# Input is (x, y) and output is (r, g, b) or (g) for grayscale\n",
    "\n",
    "s = 128\n",
    "\n",
    "class NN(nn.Module):\n",
    "    def _init_siren(self, activation_scale):\n",
    "        self.fc1.weight.data.uniform_(-1/self.fc1.in_features, 1/self.fc1.in_features)\n",
    "        for layers in [self.fc2, self.fc3, self.fc4, self.fc5]:\n",
    "            layers.weight.data.uniform_(-np.sqrt(6/self.fc2.in_features)/activation_scale, \n",
    "                                        np.sqrt(6/self.fc2.in_features)/activation_scale)\n",
    "        \n",
    "    def __init__(self, activation=torch.sin, n_out=1, activation_scale=1.0):\n",
    "        super().__init__()\n",
    "        self.activation = activation    \n",
    "        self.activation_scale = activation_scale\n",
    "        self.fc1 = nn.Linear(2, s)\n",
    "        self.fc2 = nn.Linear(s, s)\n",
    "        self.fc3 = nn.Linear(s, s)\n",
    "        self.fc4 = nn.Linear(s, s)\n",
    "        self.fc5 = nn.Linear(s, n_out) #gray scale image (1) or RGB (3)\n",
    "        if self.activation == torch.sin:\n",
    "            # init weights and biases for sine activation\n",
    "            self._init_siren(activation_scale=self.activation_scale)\n",
    "\n",
    "    def forward(self, x):\n",
    "        x = self.activation(self.activation_scale*self.fc1(x))\n",
    "        x = self.activation(self.activation_scale*self.fc2(x))\n",
    "        x = self.activation(self.activation_scale*self.fc3(x))\n",
    "        x = self.activation(self.activation_scale*self.fc4(x))\n",
    "        return self.fc5(x)"
   ]
  },
  {
   "cell_type": "code",
   "execution_count": 13,
   "metadata": {},
   "outputs": [],
   "source": [
    "class HyperNet(nn.Module):\n",
    "    def __init__(self, activation=torch.sin, n_out=50049):\n",
    "        super().__init__()\n",
    "        self.activation = activation\n",
    "        self.fc1 = nn.Linear(3, 512)\n",
    "        self.fc2 = nn.Linear(512, 512)\n",
    "        self.fc3 = nn.Linear(512, n_out)\n",
    "\n",
    "    def forward(self, x):\n",
    "        x = self.activation(self.fc1(x))\n",
    "        x = self.activation(self.fc2(x))\n",
    "        return self.fc3(x)"
   ]
  },
  {
   "cell_type": "code",
   "execution_count": 14,
   "metadata": {},
   "outputs": [],
   "source": [
    "hp = HyperNet().to(device)"
   ]
  },
  {
   "cell_type": "code",
   "execution_count": 15,
   "metadata": {},
   "outputs": [
    {
     "name": "stdout",
     "output_type": "stream",
     "text": [
      "Layer Name    Shape                     Parameter Count    Start Index    End Index\n",
      "------------  ----------------------  -----------------  -------------  -----------\n",
      "fc1.weight    torch.Size([128, 2])                  256              0          256\n",
      "fc1.bias      torch.Size([128])                     128            256          384\n",
      "fc2.weight    torch.Size([128, 128])              16384            384        16768\n",
      "fc2.bias      torch.Size([128])                     128          16768        16896\n",
      "fc3.weight    torch.Size([128, 128])              16384          16896        33280\n",
      "fc3.bias      torch.Size([128])                     128          33280        33408\n",
      "fc4.weight    torch.Size([128, 128])              16384          33408        49792\n",
      "fc4.bias      torch.Size([128])                     128          49792        49920\n",
      "fc5.weight    torch.Size([1, 128])                  128          49920        50048\n",
      "fc5.bias      torch.Size([1])                         1          50048        50049\n",
      "Total number of parameters: 50049\n"
     ]
    }
   ],
   "source": [
    "try:\n",
    "    from tabulate import tabulate\n",
    "except:\n",
    "    %pip install tabulate\n",
    "    from tabulate import tabulate\n",
    "\n",
    "model = NN(activation=torch.sin, n_out=1, activation_scale=30.0).to(device)\n",
    "\n",
    "table_data = []\n",
    "\n",
    "total_params = 0\n",
    "start = 0\n",
    "start_end_mapping = {}\n",
    "for name, param in model.named_parameters():\n",
    "    param_count = torch.prod(torch.tensor(param.shape)).item()\n",
    "    total_params += param_count\n",
    "    end = total_params\n",
    "    table_data.append([name, param.shape, param_count, start, end])\n",
    "    start_end_mapping[name] = (start, end)\n",
    "    start = end\n",
    "\n",
    "print(tabulate(table_data, headers=[\"Layer Name\", \"Shape\", \"Parameter Count\", \"Start Index\", \"End Index\"]))\n",
    "print(f\"Total number of parameters: {total_params}\")"
   ]
  },
  {
   "cell_type": "code",
   "execution_count": 16,
   "metadata": {},
   "outputs": [],
   "source": [
    "from astra.torch.utils import ravel_pytree\n",
    "flat_weights, unravel_fn = ravel_pytree(dict(model.named_parameters()))\n",
    "\n"
   ]
  },
  {
   "cell_type": "code",
   "execution_count": 17,
   "metadata": {},
   "outputs": [],
   "source": [
    "def train(hypernet,full_net, lr, X, Y,fullX, epochs,context_size, verbose=True):\n",
    "    \"\"\"\n",
    "    net: torch.nn.Module\n",
    "    lr: float\n",
    "    X: torch.Tensor of shape (num_samples, 2)\n",
    "    Y: torch.Tensor of shape (num_samples, 3)\n",
    "    \"\"\"\n",
    "\n",
    "    criterion = nn.MSELoss()\n",
    "    optimizer = torch.optim.Adam(hypernet.parameters(), lr=lr)\n",
    "    for epoch in range(epochs):\n",
    "        optimizer.zero_grad()\n",
    "        outputs = full_net(X,Y,fullX,context_size)\n",
    "        \n",
    "#         print(outputs.shape, Y.flatten().shape)\n",
    "        loss = criterion(outputs, Y.flatten())\n",
    "        loss.backward()\n",
    "#         for param in hypernet.parameters():\n",
    "#             print(param.name, param.data)\n",
    "        optimizer.step()\n",
    "        if verbose and epoch % 100 == 0:\n",
    "            print(f\"Epoch {epoch} loss: {loss.item():.6f}\")\n",
    "    return loss.item()\n",
    "\n"
   ]
  },
  {
   "cell_type": "code",
   "execution_count": 18,
   "metadata": {},
   "outputs": [],
   "source": [
    "def hypernet_with_target(X,Y,fullX,context_size):\n",
    "    # Concatenate x_c and y_c to form the context\n",
    "    context = torch.cat([X[:context_size], Y[:context_size].view(-1, 1)], dim=1)\n",
    "#     print(context)\n",
    "    out_hp = hp(context.to(device))\n",
    "    weights_flattened  = out_hp.mean(dim=0)\n",
    "    target = unravel_fn(weights_flattened)\n",
    "#     print(model.state_dict(),target)\n",
    "#     model.load_state_dict(target)\n",
    "#     y_pred = model(X.to(device)).flatten()\n",
    "#     target_state_dict=model.state_dict()\n",
    "#     for param_key in target_state_dict:\n",
    "#         target_state_dict[param_key] = target[param_key]\n",
    "#     model.load_state_dict(target_state_dict)\n",
    "\n",
    "#     target_state_dict = model.state_dict()\n",
    "#     target_state_dict.update(target)\n",
    "#     model.load_state_dict(target_state_dict)\n",
    "#     y_pred = model(X.to(device)).ravel()\n",
    "#     print(target_state_dict)\n",
    "#     print(target)\n",
    "#     print(params)\n",
    "#     fmodel, params = functorch.make_functional(model)\n",
    "#     y_pred = fmodel(params, X.to(device)).ravel()\n",
    "    \n",
    "    y_pred = torch.func.functional_call(model, target, fullX.to(device)).ravel()\n",
    "    return y_pred"
   ]
  },
  {
   "cell_type": "code",
   "execution_count": 19,
   "metadata": {},
   "outputs": [
    {
     "name": "stdout",
     "output_type": "stream",
     "text": [
      "Training started for task: 0\n",
      "Epoch 0 loss: 1.020869\n"
     ]
    },
    {
     "name": "stdout",
     "output_type": "stream",
     "text": [
      "Epoch 100 loss: 0.810974\n",
      "Epoch 200 loss: 0.653007\n",
      "Epoch 300 loss: 0.479888\n",
      "Epoch 400 loss: 0.389594\n",
      "Epoch 500 loss: 0.292179\n",
      "Epoch 600 loss: 0.242797\n",
      "Epoch 700 loss: 0.213664\n",
      "Epoch 800 loss: 0.193401\n",
      "Epoch 900 loss: 0.152974\n",
      "Epoch 1000 loss: 0.142381\n",
      "Epoch 1100 loss: 0.134061\n",
      "Epoch 1200 loss: 0.119706\n",
      "Epoch 1300 loss: 0.111907\n",
      "Epoch 1400 loss: 0.102431\n",
      "Epoch 1500 loss: 0.105948\n",
      "Epoch 1600 loss: 0.101259\n",
      "Epoch 1700 loss: 0.100893\n",
      "Epoch 1800 loss: 0.100086\n",
      "Epoch 1900 loss: 0.098540\n",
      "Epoch 2000 loss: 0.098842\n",
      "Epoch 2100 loss: 0.097479\n",
      "Epoch 2200 loss: 0.097687\n",
      "Epoch 2300 loss: 0.097608\n",
      "Epoch 2400 loss: 0.098062\n",
      "Epoch 2500 loss: 0.097595\n",
      "Epoch 2600 loss: 0.098142\n",
      "Epoch 2700 loss: 0.097513\n",
      "Epoch 2800 loss: 0.097628\n",
      "Epoch 2900 loss: 0.097510\n",
      "Epoch 3000 loss: 0.097678\n",
      "Epoch 3100 loss: 0.098095\n",
      "Epoch 3200 loss: 0.097338\n",
      "Epoch 3300 loss: 0.097280\n",
      "Epoch 3400 loss: 0.097612\n",
      "Epoch 3500 loss: 0.097566\n",
      "Epoch 3600 loss: 0.097196\n",
      "Epoch 3700 loss: 0.097373\n",
      "Epoch 3800 loss: 0.097640\n",
      "Epoch 3900 loss: 0.097686\n",
      "Epoch 4000 loss: 0.097198\n",
      "Epoch 4100 loss: 0.097421\n",
      "Epoch 4200 loss: 0.098190\n",
      "Epoch 4300 loss: 0.097314\n",
      "Epoch 4400 loss: 0.097778\n",
      "Epoch 4500 loss: 0.097415\n",
      "Epoch 4600 loss: 0.097531\n",
      "Epoch 4700 loss: 0.097551\n",
      "Epoch 4800 loss: 0.097133\n",
      "Epoch 4900 loss: 0.097806\n",
      "Epoch 5000 loss: 0.097664\n",
      "Epoch 5100 loss: 0.098173\n",
      "Epoch 5200 loss: 0.098125\n",
      "Epoch 5300 loss: 0.097555\n",
      "Epoch 5400 loss: 0.097709\n",
      "Epoch 5500 loss: 0.098114\n",
      "Epoch 5600 loss: 0.097442\n",
      "Epoch 5700 loss: 0.097544\n",
      "Epoch 5800 loss: 0.097518\n",
      "Epoch 5900 loss: 0.097690\n",
      "Epoch 6000 loss: 0.097890\n",
      "Epoch 6100 loss: 0.097643\n",
      "Epoch 6200 loss: 0.097561\n",
      "Epoch 6300 loss: 0.097276\n",
      "Epoch 6400 loss: 0.097667\n",
      "Epoch 6500 loss: 0.096659\n",
      "Epoch 6600 loss: 0.097770\n",
      "Epoch 6700 loss: 0.097156\n",
      "Epoch 6800 loss: 0.097885\n",
      "Epoch 6900 loss: 0.097898\n",
      "Epoch 7000 loss: 0.097271\n",
      "Epoch 7100 loss: 0.097583\n",
      "Epoch 7200 loss: 0.097910\n",
      "Epoch 7300 loss: 0.097610\n",
      "Epoch 7400 loss: 0.097751\n",
      "Epoch 7500 loss: 0.097328\n",
      "Epoch 7600 loss: 0.097621\n",
      "Epoch 7700 loss: 0.097745\n",
      "Epoch 7800 loss: 0.097485\n",
      "Epoch 7900 loss: 0.098110\n",
      "Epoch 8000 loss: 0.097192\n",
      "Epoch 8100 loss: 0.097897\n",
      "Epoch 8200 loss: 0.097672\n",
      "Epoch 8300 loss: 0.097734\n",
      "Epoch 8400 loss: 0.097633\n",
      "Epoch 8500 loss: 0.097477\n",
      "Epoch 8600 loss: 0.098187\n",
      "Epoch 8700 loss: 0.097642\n",
      "Epoch 8800 loss: 0.097638\n",
      "Epoch 8900 loss: 0.097517\n",
      "Epoch 9000 loss: 0.097703\n",
      "Epoch 9100 loss: 0.097527\n",
      "Epoch 9200 loss: 0.097488\n",
      "Epoch 9300 loss: 0.098280\n",
      "Epoch 9400 loss: 0.098051\n",
      "Epoch 9500 loss: 0.097884\n",
      "Epoch 9600 loss: 0.097838\n",
      "Epoch 9700 loss: 0.097757\n",
      "Epoch 9800 loss: 0.098145\n",
      "Epoch 9900 loss: 0.097362\n",
      "Training completed for task: 0\n"
     ]
    }
   ],
   "source": [
    "num_tasks = 1\n",
    "\n",
    "for task in range(num_tasks):\n",
    "    X,Y = create_coordinate_map(imgs[task])\n",
    "\n",
    "    # MinMaxScaler from -1 to 1\n",
    "    scaler_X = preprocessing.MinMaxScaler(feature_range=(-1, 1)).fit(X.cpu())\n",
    "\n",
    "    # Scale the X coordinates\n",
    "    X_scaled = scaler_X.transform(X.cpu())\n",
    "\n",
    "    # Move the scaled X coordinates to the GPU\n",
    "    X_scaled = torch.tensor(X_scaled).to(device)\n",
    "\n",
    "    # Set to dtype float32\n",
    "    X_scaled = X_scaled.float()\n",
    "    \n",
    "    # shuffled index\n",
    "    sh_index = torch.randperm(X_scaled.shape[0])\n",
    "\n",
    "    # Shuffle the dataset\n",
    "    X_sh = X_scaled[sh_index]\n",
    "    Y_sh = Y[sh_index]\n",
    "    \n",
    "    print(f\"Training started for task: {task}\")\n",
    "    # change fun hypernet to have context variable based on %\n",
    "    train(hypernet=hp,full_net = hypernet_with_target, lr=3e-6, X=X_sh, Y=Y_sh,fullX = X_scaled, \n",
    "          epochs=10000,context_size=X_scaled.shape[0])\n",
    "    print(f\"Training completed for task: {task}\")"
   ]
  },
  {
   "cell_type": "code",
   "execution_count": 20,
   "metadata": {},
   "outputs": [],
   "source": [
    "# def hypernet_for_test(X,Y,fullX,context_size):\n",
    "#     # Concatenate x_c and y_c to form the context\n",
    "#     context = torch.cat([X[:context_size], Y[:context_size].view(-1, 1)], dim=1)\n",
    "# #     print(context)\n",
    "#     out_hp = hp(context.to(device))\n",
    "#     weights_flattened  = out_hp.mean(dim=0)\n",
    "#     target = unravel_fn(weights_flattened)\n",
    "# #     print(model.state_dict(),target)\n",
    "# #     model.load_state_dict(target)\n",
    "# #     y_pred = model(X.to(device)).flatten()\n",
    "# #     target_state_dict=model.state_dict()\n",
    "# #     for param_key in target_state_dict:\n",
    "# #         target_state_dict[param_key] = target[param_key]\n",
    "# #     model.load_state_dict(target_state_dict)\n",
    "\n",
    "# #     target_state_dict = model.state_dict()\n",
    "# #     target_state_dict.update(target)\n",
    "# #     model.load_state_dict(target_state_dict)\n",
    "# #     y_pred = model(X.to(device)).ravel()\n",
    "# #     print(target_state_dict)\n",
    "# #     print(target)\n",
    "# #     print(params)\n",
    "# #     fmodel, params = functorch.make_functional(model)\n",
    "# #     y_pred = fmodel(params, X.to(device)).ravel()\n",
    "    \n",
    "#     y_pred = torch.func.functional_call(model, target, fullX.to(device)).ravel()\n",
    "#     return y_pred"
   ]
  },
  {
   "cell_type": "code",
   "execution_count": 21,
   "metadata": {},
   "outputs": [],
   "source": [
    "def plot_reconstructed_and_original_image(original_img, pred, title=\"\"):\n",
    "    \"\"\"\n",
    "    net: torch.nn.Module\n",
    "    X: torch.Tensor of shape (num_samples, 2)\n",
    "    Y: torch.Tensor of shape (num_samples, 3)\n",
    "    \"\"\"\n",
    "    num_channels=1\n",
    "    height, width = original_img.shape\n",
    "    pred = pred.reshape(height, width)\n",
    "#     pred = pred.permute(1, 2, 0)\n",
    "    fig = plt.figure(figsize=(6, 4))\n",
    "    gs = gridspec.GridSpec(1, 2, width_ratios=[1, 1])\n",
    "\n",
    "    ax0 = plt.subplot(gs[0])\n",
    "    ax1 = plt.subplot(gs[1])\n",
    "\n",
    "    ax0.imshow(pred.view(28, 28).cpu().detach().numpy(),cmap='gray')\n",
    "    ax0.set_title(\"Reconstructed Image\")\n",
    "    \n",
    "\n",
    "#     ax1.imshow(original_img.cpu())#.permute(1, 2, 0))\n",
    "    ax1.imshow(original_img.view(28, 28).cpu().numpy(), cmap='gray')\n",
    "    ax1.set_title(\"Original Image\")\n",
    "    \n",
    "    for a in [ax0, ax1]:\n",
    "        a.axis(\"off\")\n",
    "\n",
    "\n",
    "    fig.suptitle(title, y=0.9)\n",
    "    plt.tight_layout()\n",
    "\n"
   ]
  },
  {
   "cell_type": "code",
   "execution_count": 22,
   "metadata": {},
   "outputs": [
    {
     "data": {
      "image/png": "[encoded data removed]",
      "text/plain": [
       "<Figure size 600x400 with 2 Axes>"
      ]
     },
     "metadata": {},
     "output_type": "display_data"
    },
    {
     "data": {
      "image/png": "[encoded data removed]",
      "text/plain": [
       "<Figure size 600x400 with 2 Axes>"
      ]
     },
     "metadata": {},
     "output_type": "display_data"
    },
    {
     "data": {
      "image/png": "[encoded data removed]",
      "text/plain": [
       "<Figure size 600x400 with 2 Axes>"
      ]
     },
     "metadata": {},
     "output_type": "display_data"
    },
    {
     "data": {
      "image/png": "[encoded data removed]",
      "text/plain": [
       "<Figure size 600x400 with 2 Axes>"
      ]
     },
     "metadata": {},
     "output_type": "display_data"
    }
   ],
   "source": [
    "# Test on new tasks\n",
    "\n",
    "num_tasks = 1\n",
    "context_lengths = [1,10,100,784]\n",
    "hp.eval()\n",
    "model.eval()\n",
    "for num_context in context_lengths:\n",
    "    for task in range(num_tasks):\n",
    "        # load image\n",
    "        X,Y = create_coordinate_map(imgs[task])\n",
    "\n",
    "        # MinMaxScaler from -1 to 1\n",
    "        scaler_X = preprocessing.MinMaxScaler(feature_range=(-1, 1)).fit(X.cpu())\n",
    "\n",
    "        # Scale the X coordinates\n",
    "        X_scaled = scaler_X.transform(X.cpu())\n",
    "\n",
    "        # Move the scaled X coordinates to the GPU\n",
    "        X_scaled = torch.tensor(X_scaled).to(device)\n",
    "\n",
    "        # Set to dtype float32\n",
    "        X_scaled = X_scaled.float()\n",
    "        \n",
    "        # shuffled index\n",
    "        sh_index = torch.randperm(X_scaled.shape[0])\n",
    "\n",
    "        # Shuffle the dataset\n",
    "        X_sh = X_scaled[sh_index]\n",
    "        Y_sh = Y[sh_index]\n",
    "        \n",
    "        \n",
    "        pred_img = hypernet_with_target(X_sh,Y_sh,X_scaled,num_context)\n",
    "#         print(pred_img)\n",
    "        plot_reconstructed_and_original_image(imgs[task], pred_img, title=\"HyperNet\")"
   ]
  },
  {
   "cell_type": "markdown",
   "metadata": {},
   "source": [
    "## Neural Process"
   ]
  },
  {
   "cell_type": "code",
   "execution_count": null,
   "metadata": {},
   "outputs": [],
   "source": [
    "# encoder architecture\n",
    "\n",
    "# Create a MLP with 5 hidden layers with 256 neurons each and ReLU activations.\n",
    "# Input is (x, y) and output is (r, g, b) or (g) for grayscale\n",
    "\n",
    "s = 128\n",
    "\n",
    "class encoder(nn.Module):\n",
    "    def _init_siren(self, activation_scale):\n",
    "        self.fc1.weight.data.uniform_(-1/self.fc1.in_features, 1/self.fc1.in_features)\n",
    "        for layers in [self.fc2, self.fc3, self.fc4, self.fc5]:\n",
    "            layers.weight.data.uniform_(-np.sqrt(6/self.fc2.in_features)/activation_scale, \n",
    "                                        np.sqrt(6/self.fc2.in_features)/activation_scale)\n",
    "        \n",
    "    def __init__(self, activation=torch.sin, n_out=s, activation_scale=1.0):\n",
    "        super().__init__()\n",
    "        self.activation = activation    \n",
    "        self.activation_scale = activation_scale\n",
    "        self.fc1 = nn.Linear(2, s)\n",
    "        self.fc2 = nn.Linear(s, s)\n",
    "        self.fc3 = nn.Linear(s, s)\n",
    "        self.fc4 = nn.Linear(s, s)\n",
    "        self.fc5 = nn.Linear(s, n_out) #gray scale image (1) or RGB (3)\n",
    "        if self.activation == torch.sin:\n",
    "            # init weights and biases for sine activation\n",
    "            self._init_siren(activation_scale=self.activation_scale)\n",
    "\n",
    "    def forward(self, x):\n",
    "        x = self.activation(self.activation_scale*self.fc1(x))\n",
    "        x = self.activation(self.activation_scale*self.fc2(x))\n",
    "        x = self.activation(self.activation_scale*self.fc3(x))\n",
    "        x = self.activation(self.activation_scale*self.fc4(x))\n",
    "        return self.fc5(x)"
   ]
  },
  {
   "cell_type": "code",
   "execution_count": null,
   "metadata": {},
   "outputs": [],
   "source": [
    "# decoder architecture\n",
    "\n",
    "# Create a MLP with 5 hidden layers with 256 neurons each and ReLU activations.\n",
    "# Input is (x, y) and output is (r, g, b) or (g) for grayscale\n",
    "\n",
    "class decoder(nn.Module):\n",
    "    def _init_siren(self, activation_scale):\n",
    "        self.fc1.weight.data.uniform_(-1/self.fc1.in_features, 1/self.fc1.in_features)\n",
    "        for layers in [self.fc2, self.fc3, self.fc4, self.fc5]:\n",
    "            layers.weight.data.uniform_(-np.sqrt(6/self.fc2.in_features)/activation_scale, \n",
    "                                        np.sqrt(6/self.fc2.in_features)/activation_scale)\n",
    "        \n",
    "    def __init__(self, activation=torch.sin, n_out=1, activation_scale=1.0):\n",
    "        super().__init__()\n",
    "        self.activation = activation    \n",
    "        self.activation_scale = activation_scale\n",
    "        self.fc1 = nn.Linear(s+1, s)\n",
    "        self.fc2 = nn.Linear(s, s)\n",
    "        self.fc3 = nn.Linear(s, s)\n",
    "        self.fc4 = nn.Linear(s, s)\n",
    "        self.fc5 = nn.Linear(s, n_out) #gray scale image (1) or RGB (3)\n",
    "        if self.activation == torch.sin:\n",
    "            # init weights and biases for sine activation\n",
    "            self._init_siren(activation_scale=self.activation_scale)\n",
    "\n",
    "    def forward(self, x):\n",
    "        x = self.activation(self.activation_scale*self.fc1(x))\n",
    "        x = self.activation(self.activation_scale*self.fc2(x))\n",
    "        x = self.activation(self.activation_scale*self.fc3(x))\n",
    "        x = self.activation(self.activation_scale*self.fc4(x))\n",
    "        return self.fc5(x)"
   ]
  },
  {
   "cell_type": "code",
   "execution_count": null,
   "metadata": {},
   "outputs": [],
   "source": [
    "def train_np(hypernet,full_net, lr, X, Y,fullX, epochs,context_size, verbose=True):\n",
    "    \"\"\"\n",
    "    net: torch.nn.Module\n",
    "    lr: float\n",
    "    X: torch.Tensor of shape (num_samples, 2)\n",
    "    Y: torch.Tensor of shape (num_samples, 3)\n",
    "    \"\"\"\n",
    "    \n",
    "    optimizer.zero_grad()\n",
    "    representation = encoder(context)\n",
    "    representation = representation.mean(dim=0, keepdim=True)\n",
    "    target_repr = representation.repeat(x_t.shape[0], 1)\n",
    "    joint_target_x = torch.cat([target_repr, x_t.view(-1, 1)], dim=1)\n",
    "    y_pred = decoder(joint_target_x)\n",
    "\n",
    "    l = criterion(y_pred, y_t)\n",
    "    l.backward()\n",
    "    optimizer.step()\n",
    "        if verbose and epoch % 100 == 0:\n",
    "            print(f\"Epoch {epoch} loss: {loss.item():.6f}\")\n",
    "    return loss.item()\n",
    "\n"
   ]
  },
  {
   "cell_type": "code",
   "execution_count": null,
   "metadata": {},
   "outputs": [],
   "source": [
    "num_tasks = 1\n",
    "\n",
    "for task in range(num_tasks):\n",
    "    X,Y = create_coordinate_map(imgs[task])\n",
    "\n",
    "    # MinMaxScaler from -1 to 1\n",
    "    scaler_X = preprocessing.MinMaxScaler(feature_range=(-1, 1)).fit(X.cpu())\n",
    "\n",
    "    # Scale the X coordinates\n",
    "    X_scaled = scaler_X.transform(X.cpu())\n",
    "\n",
    "    # Move the scaled X coordinates to the GPU\n",
    "    X_scaled = torch.tensor(X_scaled).to(device)\n",
    "\n",
    "    # Set to dtype float32\n",
    "    X_scaled = X_scaled.float()\n",
    "    \n",
    "    # shuffled index\n",
    "    sh_index = torch.randperm(X_scaled.shape[0])\n",
    "\n",
    "    # Shuffle the dataset\n",
    "    X_sh = X_scaled[sh_index]\n",
    "    Y_sh = Y[sh_index]\n",
    "    \n",
    "    print(f\"Training started for task: {task}\")\n",
    "    # change fun hypernet to have context variable based on %\n",
    "    train_np(hypernet=hp,full_net = hypernet_with_target, lr=3e-6, X=X_sh, Y=Y_sh,fullX = X_scaled, \n",
    "          epochs=2000,context_size=X_scaled.shape[0])\n",
    "    print(f\"Training completed for task: {task}\")"
   ]
  }
 ],
 "metadata": {
  "kernelspec": {
   "display_name": "Python 3 (ipykernel)",
   "language": "python",
   "name": "python3"
  },
  "language_info": {
   "codemirror_mode": {
    "name": "ipython",
    "version": 3
   },
   "file_extension": ".py",
   "mimetype": "text/x-python",
   "name": "python",
   "nbconvert_exporter": "python",
   "pygments_lexer": "ipython3",
   "version": "3.11.4"
  }
 },
 "nbformat": 4,
 "nbformat_minor": 2
}
